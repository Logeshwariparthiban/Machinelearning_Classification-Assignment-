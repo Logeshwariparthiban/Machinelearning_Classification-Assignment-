{
 "cells": [
  {
   "cell_type": "code",
   "execution_count": 1,
   "id": "004776b6-44d3-49c3-add6-73d546c5fcb8",
   "metadata": {},
   "outputs": [],
   "source": [
    "import pickle"
   ]
  },
  {
   "cell_type": "code",
   "execution_count": 2,
   "id": "04b4df3a-43ff-4ab6-b4e1-498af69e0574",
   "metadata": {},
   "outputs": [],
   "source": [
    "loaded_model=pickle.load(open(\"finilized_model_SVC.sav\",'rb'))"
   ]
  },
  {
   "cell_type": "code",
   "execution_count": 3,
   "id": "42e2a5c4-451d-4df3-82b4-bdabfcae039a",
   "metadata": {},
   "outputs": [
    {
     "name": "stdin",
     "output_type": "stream",
     "text": [
      "Age: 23\n",
      "bp: 2.1\n",
      "al: 3.1\n",
      "su: 2.1\n",
      "bgr: 3.0\n",
      "bu: 22.1\n",
      "sc: 11.3\n",
      "sod: 52.1\n",
      "pot: 45.1\n",
      "hrmo: 56.1\n",
      "pvc: 65.1\n",
      "wc: 23.1\n",
      "rc: 25.1\n",
      "sg_b: 12.0\n",
      "sg_c: 2.1\n",
      "sg_d: 32.1\n",
      "sg_e: 12.3\n",
      "rbc_normal: 12.2\n",
      "pc_normal: 1\n",
      "pcc_present: 0\n",
      "ba_present: 1\n",
      "htn_yes: 1\n",
      "dm_yes: 1\n",
      "cad_yes: 1\n",
      "appet_yes: 1\n",
      "pe_yes: 1\n",
      "ane_yes: 1\n"
     ]
    }
   ],
   "source": [
    "age_input=float(input(\"Age:\"))\n",
    "bp_input=float(input(\"bp:\"))\n",
    "al_input=float(input(\"al:\"))\n",
    "su_input=float(input(\"su:\"))\n",
    "bgr_input=float(input(\"bgr:\"))\n",
    "bu_input=float(input(\"bu:\"))\n",
    "sc_input=float(input(\"sc:\"))\n",
    "sod_input=float(input(\"sod:\"))\n",
    "pot_input=float(input(\"pot:\"))\n",
    "hrmo_input=float(input(\"hrmo:\"))\n",
    "pvc_input=float(input(\"pvc:\"))\n",
    "wc_input=float(input(\"wc:\"))\n",
    "rc_input=float(input(\"rc:\"))\n",
    "sg_b_input=float(input(\"sg_b:\"))\n",
    "sg_c_input=float(input(\"sg_c:\"))\n",
    "sg_d_input=float(input(\"sg_d:\"))\n",
    "sg_e_input=float(input(\"sg_e:\"))\n",
    "rbc_normal_input=float(input(\"rbc_normal:\"))\n",
    "pc_normal_input=float(input(\"pc_normal:\"))\n",
    "pcc_present_input=float(input(\"pcc_present:\"))\n",
    "ba_present_input=float(input(\"ba_present:\"))\n",
    "htn_yes_input=float(input(\"htn_yes:\"))\n",
    "dm_yes_input=float(input(\"dm_yes:\"))\n",
    "cad_yes_input=float(input(\"cad_yes:\"))\n",
    "appet_yes_input=float(input(\"appet_yes:\"))\n",
    "pe_yes_input=float(input(\"pe_yes:\"))\n",
    "ane_yes=float(input(\"ane_yes:\"))"
   ]
  },
  {
   "cell_type": "code",
   "execution_count": 4,
   "id": "720053a9-3148-489c-8c0d-2de5841527af",
   "metadata": {},
   "outputs": [
    {
     "name": "stdout",
     "output_type": "stream",
     "text": [
      "Future_Prediction=[1]\n"
     ]
    }
   ],
   "source": [
    "Future_Prediction=loaded_model.predict([[age_input,bp_input,al_input,su_input,bgr_input,bu_input,sc_input,sod_input,pot_input,hrmo_input,pvc_input,wc_input,rc_input,sg_b_input,sg_c_input,sg_d_input,sg_e_input,rbc_normal_input,pc_normal_input,pcc_present_input,ba_present_input,htn_yes_input,dm_yes_input,cad_yes_input,appet_yes_input,pe_yes_input,ane_yes]])\n",
    "print(\"Future_Prediction={}\".format(Future_Prediction))"
   ]
  },
  {
   "cell_type": "code",
   "execution_count": null,
   "id": "0e66fe5a-01b2-4e6f-8268-91c50e776a20",
   "metadata": {},
   "outputs": [],
   "source": []
  }
 ],
 "metadata": {
  "kernelspec": {
   "display_name": "Python 3 (ipykernel)",
   "language": "python",
   "name": "python3"
  },
  "language_info": {
   "codemirror_mode": {
    "name": "ipython",
    "version": 3
   },
   "file_extension": ".py",
   "mimetype": "text/x-python",
   "name": "python",
   "nbconvert_exporter": "python",
   "pygments_lexer": "ipython3",
   "version": "3.12.4"
  }
 },
 "nbformat": 4,
 "nbformat_minor": 5
}
