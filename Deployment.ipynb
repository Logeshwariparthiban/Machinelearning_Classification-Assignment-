{
 "cells": [
  {
   "cell_type": "code",
   "execution_count": 1,
   "id": "004776b6-44d3-49c3-add6-73d546c5fcb8",
   "metadata": {},
   "outputs": [],
   "source": [
    "import numpy as np\n",
    "import matplotlib.pyplot as plt\n",
    "import pandas as pd"
   ]
  },
  {
   "cell_type": "code",
   "execution_count": 2,
   "id": "e3cdaa65-fa25-40cf-9648-ea4f037574ca",
   "metadata": {},
   "outputs": [],
   "source": [
    "dataset = pd.read_csv('CKD.csv')\n",
    "dataset = pd.get_dummies(dataset, dtype=int, drop_first=True)\n",
    "indep=dataset[['age', 'bp', 'al', 'su', 'bgr', 'bu', 'sc', 'sod', 'pot', 'hrmo', 'pcv',\n",
    "       'wc', 'rc', 'sg_b', 'sg_c', 'sg_d', 'sg_e', 'rbc_normal', 'pc_normal',\n",
    "       'pcc_present', 'ba_present', 'htn_yes', 'dm_yes', 'cad_yes',\n",
    "       'appet_yes', 'pe_yes', 'ane_yes']]\n",
    "dep=dataset['classification_yes']\n",
    "from sklearn.model_selection import train_test_split\n",
    "X_train, X_test, y_train, y_test = train_test_split(indep, dep, test_size = 1/3, random_state = 0)"
   ]
  },
  {
   "cell_type": "code",
   "execution_count": 3,
   "id": "c0524085-a1dc-46d2-b38e-9cca5d664306",
   "metadata": {},
   "outputs": [],
   "source": [
    "from sklearn.preprocessing import StandardScaler\n",
    "sc = StandardScaler()\n",
    "X_train = sc.fit_transform(X_train)\n",
    "X_test = sc.transform(X_test)"
   ]
  },
  {
   "cell_type": "code",
   "execution_count": 5,
   "id": "04b4df3a-43ff-4ab6-b4e1-498af69e0574",
   "metadata": {},
   "outputs": [],
   "source": [
    "import pickle\n",
    "loaded_model=pickle.load(open(\"finilized_model_SVC.sav\",'rb'))"
   ]
  },
  {
   "cell_type": "code",
   "execution_count": 6,
   "id": "0e66fe5a-01b2-4e6f-8268-91c50e776a20",
   "metadata": {},
   "outputs": [],
   "source": [
    "preinput_data = [[22, 2.0, 3.0, 2.0, 31.1, 31.0, 21.0, 21.4, 21.0, 22.1, 12, 42, 23, 23, 23, 12, 21, 1, 1, 1, 1, 0, 0, 0, 1, 1, 1]]"
   ]
  },
  {
   "cell_type": "code",
   "execution_count": 7,
   "id": "aa45600a-ce46-480c-b69e-692d7b742119",
   "metadata": {},
   "outputs": [
    {
     "name": "stderr",
     "output_type": "stream",
     "text": [
      "C:\\Anaconda3\\Lib\\site-packages\\sklearn\\base.py:493: UserWarning: X does not have valid feature names, but StandardScaler was fitted with feature names\n",
      "  warnings.warn(\n"
     ]
    }
   ],
   "source": [
    "preinput = sc.transform(preinput_data)"
   ]
  },
  {
   "cell_type": "code",
   "execution_count": 8,
   "id": "0c71cccd-2bc6-437d-a808-b60bb04c4f4a",
   "metadata": {},
   "outputs": [
    {
     "data": {
      "text/plain": [
       "array([[ -1.84081659,  -5.73912749,   1.75234707,   1.65360436,\n",
       "         -1.5533662 ,  -0.5523541 ,   2.99737758, -11.03112894,\n",
       "          7.38062207,   3.56013652,  -3.32344039,  -3.44743899,\n",
       "         22.44974661,  57.50344284,  54.16462312,  31.55690113,\n",
       "        154.49227435,   0.38924947,   0.51055216,   2.91547595,\n",
       "          4.24264069,  -0.73926425,  -0.73926425,  -0.29277002,\n",
       "          0.51639778,   1.91485422,   2.24620893]])"
      ]
     },
     "execution_count": 8,
     "metadata": {},
     "output_type": "execute_result"
    }
   ],
   "source": [
    "preinput"
   ]
  },
  {
   "cell_type": "code",
   "execution_count": 9,
   "id": "c011c0ee-d343-4622-ac46-cda717e31609",
   "metadata": {},
   "outputs": [],
   "source": [
    "loaded_model=pickle.load(open(\"finilized_model_SVC.sav\",'rb'))\n",
    "result=loaded_model.predict(preinput)"
   ]
  },
  {
   "cell_type": "code",
   "execution_count": 10,
   "id": "e540ff1d-160c-4a93-84c2-368415aaecff",
   "metadata": {},
   "outputs": [
    {
     "data": {
      "text/plain": [
       "array([1])"
      ]
     },
     "execution_count": 10,
     "metadata": {},
     "output_type": "execute_result"
    }
   ],
   "source": [
    "result"
   ]
  },
  {
   "cell_type": "code",
   "execution_count": null,
   "id": "85931ad6-0f68-41a3-a287-6e6ae1ed9a30",
   "metadata": {},
   "outputs": [],
   "source": []
  }
 ],
 "metadata": {
  "kernelspec": {
   "display_name": "Python 3 (ipykernel)",
   "language": "python",
   "name": "python3"
  },
  "language_info": {
   "codemirror_mode": {
    "name": "ipython",
    "version": 3
   },
   "file_extension": ".py",
   "mimetype": "text/x-python",
   "name": "python",
   "nbconvert_exporter": "python",
   "pygments_lexer": "ipython3",
   "version": "3.12.4"
  }
 },
 "nbformat": 4,
 "nbformat_minor": 5
}
